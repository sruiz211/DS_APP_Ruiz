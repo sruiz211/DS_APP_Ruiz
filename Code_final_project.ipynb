{
 "cells": [
  {
   "cell_type": "markdown",
   "id": "b37ac96d",
   "metadata": {},
   "source": [
    "# Human Activity Recognition using sensor data"
   ]
  },
  {
   "cell_type": "markdown",
   "id": "97df5642",
   "metadata": {},
   "source": [
    "#### Author: Santiago Ruiz"
   ]
  },
  {
   "cell_type": "markdown",
   "id": "96750eda",
   "metadata": {},
   "source": [
    "##### Description"
   ]
  },
  {
   "cell_type": "markdown",
   "id": "757b226d",
   "metadata": {},
   "source": [
    "This code performs training and validation for human activity recognition activities based on a series of feature vectors.\n",
    "The classification is made for the following categories: walking, walking upstairs, walking downstairs, sitting, standing, and laying."
   ]
  },
  {
   "cell_type": "markdown",
   "id": "eec145b9",
   "metadata": {},
   "source": [
    "# **Set up**\n"
   ]
  },
  {
   "cell_type": "code",
   "execution_count": 10,
   "id": "28a8ec1e",
   "metadata": {},
   "outputs": [],
   "source": [
    "import numpy as np\n",
    "import sklearn\n",
    "from sklearn import svm\n",
    "from sklearn.ensemble import RandomForestClassifier\n",
    "from sklearn.neural_network import MLPClassifier\n",
    "from sklearn.model_selection import GridSearchCV\n",
    "from sklearn.feature_selection import SelectKBest, f_classif\n",
    "\n",
    "import pickle\n",
    "\n",
    "# Import metrics\n",
    "from sklearn.metrics import accuracy_score\n",
    "from sklearn.metrics import RocCurveDisplay\n",
    "from sklearn.metrics import confusion_matrix,zero_one_loss\n",
    "from sklearn.metrics import roc_auc_score, auc, classification_report\n",
    "\n",
    "# To make this notebook's output stable across runs\n",
    "np.random.seed(42)\n",
    "\n",
    "# To plot pretty figures\n",
    "%matplotlib inline\n",
    "import seaborn as sns\n",
    "import matplotlib as mpl\n",
    "import matplotlib.pyplot as plt\n",
    "from matplotlib.colors import ListedColormap"
   ]
  },
  {
   "cell_type": "markdown",
   "id": "6d978270",
   "metadata": {},
   "source": [
    "# **Load data**\n",
    "\n",
    "Training and testing data are obtained from https://www.smartlab.unige.net/:\n",
    "Human Activity Recognition Using Smartphones Data Set\n",
    "SmartLab:University of Genoa\n",
    "\n",
    "Number of instances : 10299\n",
    "Number of attributes: 561\n",
    "\n",
    "- Training data (~70%)\n",
    "- Testing data  (~30%)"
   ]
  },
  {
   "cell_type": "code",
   "execution_count": 2,
   "id": "1975f992",
   "metadata": {},
   "outputs": [],
   "source": [
    "X_train = np.loadtxt(r\"C:\\Users\\sruiz2\\Box\\Fall 2022\\Data Science\\Final_project\\Data\\Training\\X_train.txt\")\n",
    "y_train = np.loadtxt(r\"C:\\Users\\sruiz2\\Box\\Fall 2022\\Data Science\\Final_project\\Data\\Training\\y_train.txt\")\n",
    "X_test  = np.loadtxt(r\"C:\\Users\\sruiz2\\Box\\Fall 2022\\Data Science\\Final_project\\Data\\Testing\\X_test.txt\")\n",
    "y_test  = np.loadtxt(r\"C:\\Users\\sruiz2\\Box\\Fall 2022\\Data Science\\Final_project\\Data\\Testing\\y_test.txt\")"
   ]
  },
  {
   "cell_type": "markdown",
   "id": "d2a38606",
   "metadata": {},
   "source": [
    "# **Model training and Evaluation**"
   ]
  },
  {
   "cell_type": "markdown",
   "id": "ef9971a6",
   "metadata": {},
   "source": [
    "### Support Vector Machine"
   ]
  },
  {
   "cell_type": "markdown",
   "id": "3f3f26f6",
   "metadata": {},
   "source": [
    "#### Initial Model Training"
   ]
  },
  {
   "cell_type": "code",
   "execution_count": 4,
   "id": "4655c410",
   "metadata": {},
   "outputs": [
    {
     "data": {
      "text/plain": [
       "SVC(random_state=42)"
      ]
     },
     "execution_count": 4,
     "metadata": {},
     "output_type": "execute_result"
    }
   ],
   "source": [
    "# Training\n",
    "svm_clf = svm.SVC(random_state=42)\n",
    "svm_clf.fit(X_train, y_train)"
   ]
  },
  {
   "cell_type": "code",
   "execution_count": 5,
   "id": "2adf1091",
   "metadata": {
    "scrolled": true
   },
   "outputs": [
    {
     "name": "stdout",
     "output_type": "stream",
     "text": [
      "SVC 95.04580929759076\n"
     ]
    }
   ],
   "source": [
    "# Evaluation\n",
    "svm_prediction = svm_clf.predict(X_test)\n",
    "Acc_svm = accuracy_score(y_test, svm_prediction)*100\n",
    "print(svm_clf.__class__.__name__,Acc_svm)"
   ]
  },
  {
   "cell_type": "markdown",
   "id": "8e989ae7",
   "metadata": {},
   "source": [
    "#### Hyperparameter Optimization"
   ]
  },
  {
   "cell_type": "code",
   "execution_count": 6,
   "id": "c154a985",
   "metadata": {},
   "outputs": [],
   "source": [
    "# parameter_space = {\n",
    "#     'C': [0.2, 0.5, 1], \n",
    "#     'kernel': ['linear','poly','rbf','sigmoid'],\n",
    "#     'gamma': ['scale','auto'],\n",
    "# }\n",
    "\n",
    "# svm_clf = GridSearchCV(svm_clf, parameter_space, n_jobs=-1, cv=5)\n",
    "# svm_clf.fit(X_train, y_train) "
   ]
  },
  {
   "cell_type": "code",
   "execution_count": 7,
   "id": "ff670ebe",
   "metadata": {
    "scrolled": true
   },
   "outputs": [],
   "source": [
    "# print('Best parameters found:\\n', svm_clf.best_params_)"
   ]
  },
  {
   "cell_type": "markdown",
   "id": "8a60fbd4",
   "metadata": {},
   "source": [
    "#### Final Model"
   ]
  },
  {
   "cell_type": "code",
   "execution_count": 8,
   "id": "a237e017",
   "metadata": {},
   "outputs": [],
   "source": [
    "svm_clf = svm.SVC(C= 0.5, gamma= 'scale', kernel= 'linear', random_state=42)\n",
    "svm_clf.fit(X_train, y_train)\n",
    "\n",
    "svm_prediction = svm_clf.predict(X_test)"
   ]
  },
  {
   "cell_type": "markdown",
   "id": "56637911",
   "metadata": {},
   "source": [
    "#### Metrics"
   ]
  },
  {
   "cell_type": "code",
   "execution_count": 11,
   "id": "3dd067f4",
   "metadata": {
    "scrolled": true
   },
   "outputs": [
    {
     "name": "stdout",
     "output_type": "stream",
     "text": [
      "SVC 96.26739056667797\n",
      "\n",
      " True Positive: \n",
      " [492 451 410 433 514 537]\n",
      "\n",
      " True Negative: \n",
      " [2429 2467 2522 2438 2359 2410]\n",
      "\n",
      " False Positive: \n",
      " [22  9  5 18 56  0]\n",
      "\n",
      " False Negative: \n",
      " [ 4 20 10 58 18  0]\n",
      "              precision    recall  f1-score   support\n",
      "\n",
      "         1.0     0.9572    0.9919    0.9743       496\n",
      "         2.0     0.9804    0.9575    0.9689       471\n",
      "         3.0     0.9880    0.9762    0.9820       420\n",
      "         4.0     0.9601    0.8819    0.9193       491\n",
      "         5.0     0.9018    0.9662    0.9328       532\n",
      "         6.0     1.0000    1.0000    1.0000       537\n",
      "\n",
      "    accuracy                         0.9627      2947\n",
      "   macro avg     0.9646    0.9623    0.9629      2947\n",
      "weighted avg     0.9636    0.9627    0.9626      2947\n",
      "\n",
      "Accuracy: 96.26739056667797\n",
      "\n",
      " Confussion Matrix: \n",
      " [[492   1   3   0   0   0]\n",
      " [ 18 451   2   0   0   0]\n",
      " [  4   6 410   0   0   0]\n",
      " [  0   2   0 433  56   0]\n",
      " [  0   0   0  18 514   0]\n",
      " [  0   0   0   0   0 537]]\n"
     ]
    }
   ],
   "source": [
    "Acc_svm = accuracy_score(y_test, svm_prediction)*100\n",
    "print(svm_clf.__class__.__name__,Acc_svm)\n",
    "\n",
    "results_svm = confusion_matrix(y_test, svm_prediction)\n",
    "\n",
    "FP = results_svm.sum(axis=0) - np.diag(results_svm)  \n",
    "FN = results_svm.sum(axis=1) - np.diag(results_svm)\n",
    "TP = np.diag(results_svm)\n",
    "TN = results_svm.sum() - (FP + FN + TP)\n",
    "\n",
    "print('\\n True Positive: \\n', TP)\n",
    "print('\\n True Negative: \\n', TN)\n",
    "print('\\n False Positive: \\n', FP)\n",
    "print('\\n False Negative: \\n', FN)\n",
    "\n",
    "print(classification_report(y_test,svm_prediction, digits=4))\n",
    "print('Accuracy:',Acc_svm)\n",
    "print('\\n Confussion Matrix: \\n', results_svm)\n",
    "\n"
   ]
  },
  {
   "cell_type": "code",
   "execution_count": 12,
   "id": "f660d3d2",
   "metadata": {},
   "outputs": [
    {
     "data": {
      "text/plain": [
       "array([0.95719844, 0.98043478, 0.98795181, 0.96008869, 0.90175439,\n",
       "       1.        ])"
      ]
     },
     "execution_count": 12,
     "metadata": {},
     "output_type": "execute_result"
    }
   ],
   "source": [
    "TP/(TP+FP)"
   ]
  },
  {
   "cell_type": "markdown",
   "id": "98614ccd",
   "metadata": {},
   "source": [
    "## Random Forest Classifier"
   ]
  },
  {
   "cell_type": "markdown",
   "id": "9dbe85f1",
   "metadata": {},
   "source": [
    "#### Initial Model Training and Evaluation"
   ]
  },
  {
   "cell_type": "code",
   "execution_count": 13,
   "id": "3dd1f3f8",
   "metadata": {},
   "outputs": [
    {
     "data": {
      "text/plain": [
       "RandomForestClassifier(random_state=42)"
      ]
     },
     "execution_count": 13,
     "metadata": {},
     "output_type": "execute_result"
    }
   ],
   "source": [
    "# Training\n",
    "rnd_clf = RandomForestClassifier(n_estimators=100,random_state=42)\n",
    "rnd_clf.fit(X_train, y_train)"
   ]
  },
  {
   "cell_type": "code",
   "execution_count": 14,
   "id": "e93b99e5",
   "metadata": {},
   "outputs": [
    {
     "name": "stdout",
     "output_type": "stream",
     "text": [
      "RandomForestClassifier 92.56871394638615\n"
     ]
    }
   ],
   "source": [
    "# Evaluation\n",
    "rnd_prediction = rnd_clf.predict(X_test)\n",
    "Acc_rnd = accuracy_score(y_test, rnd_prediction)*100\n",
    "print(rnd_clf.__class__.__name__,Acc_rnd)"
   ]
  },
  {
   "cell_type": "markdown",
   "id": "1bd95004",
   "metadata": {},
   "source": [
    "#### Hyperparameter Optimization"
   ]
  },
  {
   "cell_type": "code",
   "execution_count": 15,
   "id": "3f3ef1e7",
   "metadata": {},
   "outputs": [],
   "source": [
    "# rnd_clf = RandomForestClassifier(random_state=42)\n",
    "\n",
    "# parameter_space = {\n",
    "#     'n_estimators': [50, 100, 150, 200], \n",
    "#     'criterion': ['gini','entropy','log_loss'],\n",
    "#     'max_features': ['sqrt','log2'],\n",
    "# }\n",
    "\n",
    "# rnd_clf = GridSearchCV(rnd_clf, parameter_space, n_jobs=-1, cv=5)\n",
    "# rnd_clf.fit(X_train, y_train) "
   ]
  },
  {
   "cell_type": "code",
   "execution_count": 16,
   "id": "966b14f1",
   "metadata": {},
   "outputs": [],
   "source": [
    "# print('Best parameters found:\\n', rnd_clf.best_params_)"
   ]
  },
  {
   "cell_type": "markdown",
   "id": "848cc882",
   "metadata": {},
   "source": [
    "#### Final Model"
   ]
  },
  {
   "cell_type": "code",
   "execution_count": 17,
   "id": "381a69a8",
   "metadata": {},
   "outputs": [],
   "source": [
    "rnd_clf = RandomForestClassifier(n_estimators=150, criterion= 'entropy', max_features= 'sqrt', random_state=42)\n",
    "rnd_clf.fit(X_train, y_train)\n",
    "\n",
    "rnd_prediction = rnd_clf.predict(X_test)"
   ]
  },
  {
   "cell_type": "markdown",
   "id": "92d666ff",
   "metadata": {},
   "source": [
    "#### Metrics"
   ]
  },
  {
   "cell_type": "code",
   "execution_count": 18,
   "id": "606aad13",
   "metadata": {},
   "outputs": [
    {
     "name": "stdout",
     "output_type": "stream",
     "text": [
      "\n",
      " True Positive: \n",
      " [484 428 361 435 505 537]\n",
      "\n",
      " True Negative: \n",
      " [2394 2432 2514 2429 2359 2410]\n",
      "\n",
      " False Positive: \n",
      " [57 44 13 27 56  0]\n",
      "\n",
      " False Negative: \n",
      " [12 43 59 56 27  0]\n",
      "              precision    recall  f1-score   support\n",
      "\n",
      "         1.0     0.8946    0.9758    0.9335       496\n",
      "         2.0     0.9068    0.9087    0.9077       471\n",
      "         3.0     0.9652    0.8595    0.9093       420\n",
      "         4.0     0.9416    0.8859    0.9129       491\n",
      "         5.0     0.9002    0.9492    0.9241       532\n",
      "         6.0     1.0000    1.0000    1.0000       537\n",
      "\n",
      "    accuracy                         0.9332      2947\n",
      "   macro avg     0.9347    0.9299    0.9312      2947\n",
      "weighted avg     0.9347    0.9332    0.9329      2947\n",
      "\n",
      "Accuracy: 93.31523583305056\n",
      "\n",
      " Confussion Matrix: \n",
      " [[484   5   7   0   0   0]\n",
      " [ 37 428   6   0   0   0]\n",
      " [ 20  39 361   0   0   0]\n",
      " [  0   0   0 435  56   0]\n",
      " [  0   0   0  27 505   0]\n",
      " [  0   0   0   0   0 537]]\n"
     ]
    }
   ],
   "source": [
    "Acc_rnd = accuracy_score(y_test, rnd_prediction)*100\n",
    "results_rnd = confusion_matrix(y_test, rnd_prediction)\n",
    "\n",
    "FP = results_rnd.sum(axis=0) - np.diag(results_rnd)  \n",
    "FN = results_rnd.sum(axis=1) - np.diag(results_rnd)\n",
    "TP = np.diag(results_rnd)\n",
    "TN = results_rnd.sum() - (FP + FN + TP)\n",
    "\n",
    "print('\\n True Positive: \\n', TP)\n",
    "print('\\n True Negative: \\n', TN)\n",
    "print('\\n False Positive: \\n', FP)\n",
    "print('\\n False Negative: \\n', FN)\n",
    "\n",
    "print(classification_report(y_test,rnd_prediction, digits=4))\n",
    "print('Accuracy:',Acc_rnd)\n",
    "print('\\n Confussion Matrix: \\n', results_rnd)"
   ]
  },
  {
   "cell_type": "markdown",
   "id": "910b961c",
   "metadata": {},
   "source": [
    "## Artificial Neural Network"
   ]
  },
  {
   "cell_type": "markdown",
   "id": "371edb7f",
   "metadata": {},
   "source": [
    "#### Initial Model Training"
   ]
  },
  {
   "cell_type": "code",
   "execution_count": 19,
   "id": "919d6a57",
   "metadata": {},
   "outputs": [
    {
     "data": {
      "text/plain": [
       "MLPClassifier(hidden_layer_sizes=(10, 5), max_iter=1000, random_state=42)"
      ]
     },
     "execution_count": 19,
     "metadata": {},
     "output_type": "execute_result"
    }
   ],
   "source": [
    "# Training\n",
    "nrn_clf = MLPClassifier(solver='adam', alpha=1e-4, hidden_layer_sizes=(10, 5), random_state=42, max_iter=1000, activation='relu' )\n",
    "nrn_clf.fit(X_train, y_train)"
   ]
  },
  {
   "cell_type": "code",
   "execution_count": 20,
   "id": "bc61d50b",
   "metadata": {},
   "outputs": [
    {
     "name": "stdout",
     "output_type": "stream",
     "text": [
      "MLPClassifier 95.18154054971157\n"
     ]
    }
   ],
   "source": [
    "# Evaluation\n",
    "nrn_prediction = nrn_clf.predict(X_test)\n",
    "Acc_nrn = accuracy_score(y_test, nrn_prediction)*100\n",
    "print(nrn_clf.__class__.__name__,Acc_nrn)"
   ]
  },
  {
   "cell_type": "markdown",
   "id": "b2949a46",
   "metadata": {},
   "source": [
    "#### Hyperparameter Optimization"
   ]
  },
  {
   "cell_type": "code",
   "execution_count": 21,
   "id": "e7821cf6",
   "metadata": {},
   "outputs": [],
   "source": [
    "# mlp_gs = MLPClassifier(max_iter=1000)\n",
    "# parameter_space = {\n",
    "#     'hidden_layer_sizes': [(10, 2),(10, 5),(10,30,10),(20,),(30,)],\n",
    "#     'activation': ['relu'],\n",
    "#     'solver': ['adam'],\n",
    "#     'alpha': [0.00001, 0.0001, 0.05, 0.1, 0.2],\n",
    "#     'learning_rate': ['constant','adaptive'],\n",
    "# }\n",
    "\n",
    "# nrn_clf = GridSearchCV(mlp_gs, parameter_space, n_jobs=-1, cv=5)\n",
    "# nrn_clf.fit(X_train, y_train)"
   ]
  },
  {
   "cell_type": "code",
   "execution_count": 22,
   "id": "629b6ae4",
   "metadata": {
    "scrolled": true
   },
   "outputs": [],
   "source": [
    "# print('Best parameters found:\\n', nrn_clf.best_params_)"
   ]
  },
  {
   "cell_type": "markdown",
   "id": "867bca2c",
   "metadata": {},
   "source": [
    "#### Final Model"
   ]
  },
  {
   "cell_type": "code",
   "execution_count": 23,
   "id": "a195ed4d",
   "metadata": {
    "scrolled": false
   },
   "outputs": [],
   "source": [
    "nrn_clf = MLPClassifier(solver='adam', alpha=0.05, hidden_layer_sizes=(20,), \n",
    "                        random_state=42, max_iter=1000, activation='relu',learning_rate='adaptive')\n",
    "nrn_clf.fit(X_train, y_train)\n",
    "\n",
    "nrn_prediction = nrn_clf.predict(X_test)\n"
   ]
  },
  {
   "cell_type": "markdown",
   "id": "9cf8bae3",
   "metadata": {},
   "source": [
    "#### Metrics"
   ]
  },
  {
   "cell_type": "code",
   "execution_count": 25,
   "id": "46b967d8",
   "metadata": {},
   "outputs": [
    {
     "name": "stdout",
     "output_type": "stream",
     "text": [
      "\n",
      " True Positive: \n",
      " [493 444 405 434 520 537]\n",
      "\n",
      " True Negative: \n",
      " [2420 2463 2523 2445 2361 2409]\n",
      "\n",
      " False Positive: \n",
      " [31 13  4 11 54  1]\n",
      "\n",
      " False Negative: \n",
      " [ 3 27 15 57 12  0]\n",
      "              precision    recall  f1-score   support\n",
      "\n",
      "         1.0     0.9408    0.9940    0.9667       496\n",
      "         2.0     0.9716    0.9427    0.9569       471\n",
      "         3.0     0.9902    0.9643    0.9771       420\n",
      "         4.0     0.9753    0.8839    0.9274       491\n",
      "         5.0     0.9059    0.9774    0.9403       532\n",
      "         6.0     0.9981    1.0000    0.9991       537\n",
      "\n",
      "    accuracy                         0.9613      2947\n",
      "   macro avg     0.9637    0.9604    0.9612      2947\n",
      "weighted avg     0.9627    0.9613    0.9612      2947\n",
      "\n",
      "Accuracy: 96.13165931455717\n",
      "\n",
      " Confussion Matrix: \n",
      " [[493   0   3   0   0   0]\n",
      " [ 26 444   1   0   0   0]\n",
      " [  4  10 405   0   1   0]\n",
      " [  0   3   0 434  53   1]\n",
      " [  1   0   0  11 520   0]\n",
      " [  0   0   0   0   0 537]]\n"
     ]
    }
   ],
   "source": [
    "Acc_nrn = accuracy_score(y_test, nrn_prediction)*100\n",
    "results_nrn = confusion_matrix(y_test, nrn_prediction)\n",
    "\n",
    "FP = results_nrn.sum(axis=0) - np.diag(results_nrn)  \n",
    "FN = results_nrn.sum(axis=1) - np.diag(results_nrn)\n",
    "TP = np.diag(results_nrn)\n",
    "TN = results_nrn.sum() - (FP + FN + TP)\n",
    "\n",
    "print('\\n True Positive: \\n', TP)\n",
    "print('\\n True Negative: \\n', TN)\n",
    "print('\\n False Positive: \\n', FP)\n",
    "print('\\n False Negative: \\n', FN)\n",
    "\n",
    "print(classification_report(y_test,nrn_prediction, digits=4))\n",
    "print('Accuracy:',Acc_nrn)\n",
    "print('\\n Confussion Matrix: \\n', results_nrn)"
   ]
  },
  {
   "cell_type": "markdown",
   "id": "4248ac4c",
   "metadata": {},
   "source": [
    "## Results Visualization"
   ]
  },
  {
   "cell_type": "code",
   "execution_count": 37,
   "id": "39f837c2",
   "metadata": {},
   "outputs": [
    {
     "name": "stderr",
     "output_type": "stream",
     "text": [
      "C:\\ProgramData\\Anaconda3\\lib\\site-packages\\sklearn\\utils\\deprecation.py:87: FutureWarning: Function plot_confusion_matrix is deprecated; Function `plot_confusion_matrix` is deprecated in 1.0 and will be removed in 1.2. Use one of the class methods: ConfusionMatrixDisplay.from_predictions or ConfusionMatrixDisplay.from_estimator.\n",
      "  warnings.warn(msg, category=FutureWarning)\n"
     ]
    },
    {
     "data": {
      "text/plain": [
       "(array([0, 1, 2, 3, 4, 5]),\n",
       " [Text(0, 0, 'Walking'),\n",
       "  Text(1, 0, 'Walking Upstairs'),\n",
       "  Text(2, 0, 'Walking Downtairs'),\n",
       "  Text(3, 0, 'Sitting'),\n",
       "  Text(4, 0, 'Standing'),\n",
       "  Text(5, 0, 'Laying')])"
      ]
     },
     "execution_count": 37,
     "metadata": {},
     "output_type": "execute_result"
    },
    {
     "data": {
      "image/png": "[encoded data removed]",
      "text/plain": [
       "<Figure size 432x288 with 2 Axes>"
      ]
     },
     "metadata": {
      "needs_background": "light"
     },
     "output_type": "display_data"
    }
   ],
   "source": [
    "axplot= plt.subplot()\n",
    "sklearn.metrics.plot_confusion_matrix(nrn_clf, X_test, y_test,ax=axplot)\n",
    "\n",
    "# labels, title and ticks\n",
    "axplot.set_xlabel('Target Class');\n",
    "axplot.set_ylabel('Output Class'); \n",
    "axplot.set_title('Confusion Matrix'); \n",
    "axplot.xaxis.set_ticklabels(['Walking', 'Walking Upstairs','Walking Downtairs', 'Sitting', 'Standing', 'Laying']);\n",
    "axplot.yaxis.set_ticklabels(['Walking', 'Walking Upstairs','Walking Downtairs', 'Sitting', 'Standing', 'Laying']);\n",
    "plt.xticks(rotation = 90) \n",
    "\n",
    "# plt.tight_layout()\n",
    "# plt.savefig(\"cm_1.pdf\")"
   ]
  },
  {
   "cell_type": "code",
   "execution_count": 31,
   "id": "134da371",
   "metadata": {},
   "outputs": [
    {
     "name": "stderr",
     "output_type": "stream",
     "text": [
      "C:\\ProgramData\\Anaconda3\\lib\\site-packages\\sklearn\\utils\\deprecation.py:87: FutureWarning: Function plot_confusion_matrix is deprecated; Function `plot_confusion_matrix` is deprecated in 1.0 and will be removed in 1.2. Use one of the class methods: ConfusionMatrixDisplay.from_predictions or ConfusionMatrixDisplay.from_estimator.\n",
      "  warnings.warn(msg, category=FutureWarning)\n"
     ]
    },
    {
     "data": {
      "image/png": "[encoded data removed]",
      "text/plain": [
       "<Figure size 432x288 with 2 Axes>"
      ]
     },
     "metadata": {
      "needs_background": "light"
     },
     "output_type": "display_data"
    }
   ],
   "source": [
    "axplot= plt.subplot()\n",
    "sklearn.metrics.plot_confusion_matrix(svm_clf, X_test, y_test,ax=axplot)\n",
    "\n",
    "# labels, title and ticks\n",
    "axplot.set_xlabel('Target Class');\n",
    "axplot.set_ylabel('Output Class'); \n",
    "axplot.set_title('Confusion Matrix'); \n",
    "axplot.xaxis.set_ticklabels(['Walking', 'Walking Upstairs','Walking Downtairs', 'Sitting', 'Standing', 'Laying']);\n",
    "axplot.yaxis.set_ticklabels(['Walking', 'Walking Upstairs','Walking Downtairs', 'Sitting', 'Standing', 'Laying']);\n",
    "plt.xticks(rotation = 90) \n",
    "\n",
    "\n",
    "# plt.tight_layout()\n",
    "# plt.savefig(\"cm_2.pdf\")"
   ]
  },
  {
   "cell_type": "code",
   "execution_count": 35,
   "id": "eaaef90e",
   "metadata": {
    "scrolled": true
   },
   "outputs": [
    {
     "name": "stderr",
     "output_type": "stream",
     "text": [
      "C:\\ProgramData\\Anaconda3\\lib\\site-packages\\sklearn\\utils\\deprecation.py:87: FutureWarning: Function plot_confusion_matrix is deprecated; Function `plot_confusion_matrix` is deprecated in 1.0 and will be removed in 1.2. Use one of the class methods: ConfusionMatrixDisplay.from_predictions or ConfusionMatrixDisplay.from_estimator.\n",
      "  warnings.warn(msg, category=FutureWarning)\n"
     ]
    },
    {
     "data": {
      "image/png": "[encoded data removed]",
      "text/plain": [
       "<Figure size 432x288 with 2 Axes>"
      ]
     },
     "metadata": {
      "needs_background": "light"
     },
     "output_type": "display_data"
    }
   ],
   "source": [
    "axplot= plt.subplot()\n",
    "sklearn.metrics.plot_confusion_matrix(rnd_clf, X_test, y_test,ax=axplot)\n",
    "\n",
    "# labels, title and ticks\n",
    "axplot.set_xlabel('Target Class');\n",
    "axplot.set_ylabel('Output Class'); \n",
    "axplot.set_title('Confusion Matrix'); \n",
    "axplot.xaxis.set_ticklabels(['Walking', 'Walking Upstairs','Walking Downtairs', 'Sitting', 'Standing', 'Laying']);\n",
    "axplot.yaxis.set_ticklabels(['Walking', 'Walking Upstairs','Walking Downtairs', 'Sitting', 'Standing', 'Laying']);\n",
    "plt.xticks(rotation = 90) \n",
    "\n",
    "\n",
    "# plt.tight_layout()\n",
    "# plt.savefig(\"cm_3.pdf\")"
   ]
  }
 ],
 "metadata": {
  "kernelspec": {
   "display_name": "Python 3 (ipykernel)",
   "language": "python",
   "name": "python3"
  },
  "language_info": {
   "codemirror_mode": {
    "name": "ipython",
    "version": 3
   },
   "file_extension": ".py",
   "mimetype": "text/x-python",
   "name": "python",
   "nbconvert_exporter": "python",
   "pygments_lexer": "ipython3",
   "version": "3.9.12"
  }
 },
 "nbformat": 4,
 "nbformat_minor": 5
}
